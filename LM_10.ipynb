{
 "cells": [
  {
   "cell_type": "code",
   "execution_count": 2,
   "id": "a48086d2-e544-4ec4-99be-9db7bef210f5",
   "metadata": {},
   "outputs": [
    {
     "name": "stdin",
     "output_type": "stream",
     "text": [
      "enter amount : 6000\n"
     ]
    },
    {
     "name": "stdout",
     "output_type": "stream",
     "text": [
      "600.0\n"
     ]
    }
   ],
   "source": [
    "amount = float(input(\"enter amount :\"))\n",
    "if amount <= 5000 :\n",
    "    print(amount * 0.05)\n",
    "else :\n",
    "    print(amount * 0.10)"
   ]
  },
  {
   "cell_type": "code",
   "execution_count": null,
   "id": "1a0ecbaf-acfe-4b0d-ac51-c7578142a94f",
   "metadata": {},
   "outputs": [],
   "source": []
  }
 ],
 "metadata": {
  "kernelspec": {
   "display_name": "Python [conda env:base] *",
   "language": "python",
   "name": "conda-base-py"
  },
  "language_info": {
   "codemirror_mode": {
    "name": "ipython",
    "version": 3
   },
   "file_extension": ".py",
   "mimetype": "text/x-python",
   "name": "python",
   "nbconvert_exporter": "python",
   "pygments_lexer": "ipython3",
   "version": "3.12.7"
  }
 },
 "nbformat": 4,
 "nbformat_minor": 5
}
