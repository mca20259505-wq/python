{
 "cells": [
  {
   "cell_type": "code",
   "execution_count": 4,
   "id": "e6fd402e-9099-4117-87f6-da880de43678",
   "metadata": {},
   "outputs": [
    {
     "name": "stdin",
     "output_type": "stream",
     "text": [
      "enter password : 123654789\n"
     ]
    },
    {
     "name": "stdout",
     "output_type": "stream",
     "text": [
      "Password must have at least one uppercase letter.\n"
     ]
    }
   ],
   "source": [
    "password = input(\"enter password :\")\n",
    "\n",
    "has_lower = False\n",
    "has_upper = False\n",
    "has_digit  = False\n",
    "has_Char = False\n",
    "\n",
    "special_char = \"!@#$%^&()~\"\n",
    "\n",
    "for  char in password :\n",
    "    if char.isupper():\n",
    "        has_upper = True\n",
    "    elif char.islower():\n",
    "        has_lower = True\n",
    "    elif char.isdigit():\n",
    "        has_digit = True\n",
    "    elif char in special_char:\n",
    "        has_Char = True\n",
    "\n",
    "if len(password) < 8:\n",
    "    print(\"password's incorrect\")\n",
    "elif not has_upper:\n",
    "    print(\"Password must have at least one uppercase letter.\")\n",
    "elif not has_lower:\n",
    "    print(\"Password must have at least one lowercase letter.\")\n",
    "elif not has_digit:\n",
    "    print(\"Password must have at least one digit.\")\n",
    "elif not has_Char:\n",
    "    print(\"Password must have at least one special character (!@#$%^&*).\")\n",
    "else:\n",
    "    print(\"Password is valid!\")"
   ]
  },
  {
   "cell_type": "code",
   "execution_count": null,
   "id": "19d299fc-7449-42a3-92a5-b304a92559e6",
   "metadata": {},
   "outputs": [],
   "source": []
  }
 ],
 "metadata": {
  "kernelspec": {
   "display_name": "Python [conda env:base] *",
   "language": "python",
   "name": "conda-base-py"
  },
  "language_info": {
   "codemirror_mode": {
    "name": "ipython",
    "version": 3
   },
   "file_extension": ".py",
   "mimetype": "text/x-python",
   "name": "python",
   "nbconvert_exporter": "python",
   "pygments_lexer": "ipython3",
   "version": "3.12.7"
  }
 },
 "nbformat": 4,
 "nbformat_minor": 5
}
