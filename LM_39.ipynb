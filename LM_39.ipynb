{
 "cells": [
  {
   "cell_type": "code",
   "execution_count": 10,
   "id": "b1f22490-149c-49ea-a50b-af31b7d5847c",
   "metadata": {},
   "outputs": [
    {
     "name": "stdin",
     "output_type": "stream",
     "text": [
      "enter month name lol\n"
     ]
    },
    {
     "name": "stdout",
     "output_type": "stream",
     "text": [
      "lol is not valid\n"
     ]
    },
    {
     "name": "stdin",
     "output_type": "stream",
     "text": [
      "enter month name may\n"
     ]
    },
    {
     "name": "stdout",
     "output_type": "stream",
     "text": [
      "may has 31 days\n"
     ]
    }
   ],
   "source": [
    "\n",
    "# months = [\"january\",\"febuary\",\"march\",\"april\",\"may\",\"june\",\"july\",\"august\",\"september\",\"october\",\"november\",\"december\"]\n",
    "even_months = [\"april\",\"june\",\"september\",\"november\"]\n",
    "odd_months = [\"january\",\"march\",\"may\",\"july\",\"august\",\"october\",\"december\"]\n",
    "while True:\n",
    "    month  = input(\"enter month name\").lower()\n",
    "    if month not in even_months + odd_months:\n",
    "       print (f\"{month} is not valid\")\n",
    "    else:\n",
    "        break\n",
    "\n",
    "\n",
    "if month == \"febuary\":\n",
    "    print(f\"{month} can have 28/29 days\")\n",
    "elif month in even_months:\n",
    "    print(f\"{month} has 30 days\")\n",
    "elif month in odd_months:\n",
    "    print(f\"{month} has 31 days\")"
   ]
  },
  {
   "cell_type": "code",
   "execution_count": null,
   "id": "01c5704d-48af-4251-97a5-8ad91a41e232",
   "metadata": {},
   "outputs": [],
   "source": []
  }
 ],
 "metadata": {
  "kernelspec": {
   "display_name": "Python [conda env:base] *",
   "language": "python",
   "name": "conda-base-py"
  },
  "language_info": {
   "codemirror_mode": {
    "name": "ipython",
    "version": 3
   },
   "file_extension": ".py",
   "mimetype": "text/x-python",
   "name": "python",
   "nbconvert_exporter": "python",
   "pygments_lexer": "ipython3",
   "version": "3.12.7"
  }
 },
 "nbformat": 4,
 "nbformat_minor": 5
}
