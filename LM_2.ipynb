{
 "cells": [
  {
   "cell_type": "markdown",
   "id": "00bb8a0b-4a60-4e2f-82db-4488b7fbe3f8",
   "metadata": {},
   "source": [
    "#### 2-1. Simple Message: Store a message in a variable, and then print that message."
   ]
  },
  {
   "cell_type": "code",
   "execution_count": 1,
   "id": "cafea9a4-189d-4a62-9b89-2618476510d3",
   "metadata": {},
   "outputs": [
    {
     "name": "stdout",
     "output_type": "stream",
     "text": [
      "hello\n"
     ]
    }
   ],
   "source": [
    "var = \"hello\"\n",
    "print(var)"
   ]
  },
  {
   "cell_type": "markdown",
   "id": "f95fe9da-7252-4981-82ae-b19df45ca11b",
   "metadata": {},
   "source": [
    "#### 2-2. Simple Messages: Store a message in a variable, and print that message. Thenchange the value of your variable to a new message, and print the new message."
   ]
  },
  {
   "cell_type": "code",
   "execution_count": 2,
   "id": "2845c552-6906-486f-9f6c-82479ad9b89b",
   "metadata": {},
   "outputs": [
    {
     "name": "stdout",
     "output_type": "stream",
     "text": [
      "hello\n",
      "bye\n"
     ]
    }
   ],
   "source": [
    "var1 = \"hello\"\n",
    "print(var1)\n",
    "var1 = \"bye\"\n",
    "print(var1)"
   ]
  },
  {
   "cell_type": "markdown",
   "id": "f2837a33-13ed-4ded-872b-4f4863d14384",
   "metadata": {},
   "source": [
    "##### 2-3. Personal Message: Store a person’s name in a variable, and print a message tothat person. Your message should be simple, such as, “Hello Student, would you like tolearn some Python today?”"
   ]
  },
  {
   "cell_type": "code",
   "execution_count": 4,
   "id": "04c931bf-496c-4bf1-b5e1-cadbd25e8ac9",
   "metadata": {},
   "outputs": [
    {
     "name": "stdout",
     "output_type": "stream",
     "text": [
      "hello rehan!! would you like to learn some python\n"
     ]
    }
   ],
   "source": [
    "name = \"rehan\"\n",
    "print(f\"hello {name}!! would you like to learn some python\")"
   ]
  },
  {
   "cell_type": "markdown",
   "id": "c7c1741e-eff8-45bd-835a-0bdc405448ee",
   "metadata": {},
   "source": [
    "#### 2-4. Name Cases: Store a person’s name in a variable, and then print that person’sname in lowercase, uppercase, and titlecase."
   ]
  },
  {
   "cell_type": "code",
   "execution_count": 5,
   "id": "288f897a-07f5-4aff-95f7-0a2168613cbf",
   "metadata": {},
   "outputs": [
    {
     "name": "stdout",
     "output_type": "stream",
     "text": [
      "REHAN\n",
      "rehan\n",
      "Rehan\n"
     ]
    }
   ],
   "source": [
    "name = \"rehan\"\n",
    "print(name.upper())\n",
    "print(name.lower())\n",
    "print(name.title())"
   ]
  },
  {
   "cell_type": "markdown",
   "id": "6cab874b-1fb3-4cf9-a52a-e5227b493562",
   "metadata": {},
   "source": [
    "#### 2-5. Famous Quote: Find a quote from a famous person you admire. Print the quoteand the name of its author. Your output should look something like the following,including the quotation marks:Albert Einstein once said, “A person who never made amistake never tried anything new.”"
   ]
  },
  {
   "cell_type": "code",
   "execution_count": 6,
   "id": "acad5c77-50f3-40cb-8bfe-b4b8dc26c191",
   "metadata": {},
   "outputs": [
    {
     "name": "stdout",
     "output_type": "stream",
     "text": [
      "Franz Kafka once said : A first sign of begining of understanding is the wish to die\n"
     ]
    }
   ],
   "source": [
    "auther = \"Franz Kafka\"\n",
    "print(f\"{auther} once said : A first sign of begining of understanding is the wish to die\")"
   ]
  },
  {
   "cell_type": "markdown",
   "id": "8edc9fb4-5fe3-44a0-bbeb-bf25d0e58c42",
   "metadata": {},
   "source": [
    "#### 2-6. Famous Quote 2: Repeat Exercise 2-5, but this time store the famous person’sname in a variable called famous_person. Then compose your message and store it in anew variable called message. Print your message."
   ]
  },
  {
   "cell_type": "code",
   "execution_count": 10,
   "id": "d8e31655-9685-4dc0-a538-bd5feefef146",
   "metadata": {},
   "outputs": [
    {
     "name": "stdout",
     "output_type": "stream",
     "text": [
      "Franz Kafka once said : A first sign of begining of understanding is the wish to die\n"
     ]
    }
   ],
   "source": [
    "auther = \"Franz Kafka\"\n",
    "quote = \"once said : A first sign of begining of understanding is the wish to die\"\n",
    "print(f\"{auther} {quote}\")"
   ]
  },
  {
   "cell_type": "markdown",
   "id": "bd1a3935-75dd-4e08-833e-61f0065638e5",
   "metadata": {},
   "source": [
    "#### 2-7. Stripping Names: Store a person’s name, and include some whitespacecharacters at the beginning and end of the name. Make sure you use each charactercombination, \"\\t\" and \"\\n\", at least once. Print the name once, so the whitespacearound the name is displayed. Then print the name using each of the three strippingfunctions, lstrip(), rstrip(), and strip()."
   ]
  },
  {
   "cell_type": "code",
   "execution_count": 15,
   "id": "8dd647f5-23b6-4f67-9a3e-31b474be26b5",
   "metadata": {},
   "outputs": [
    {
     "name": "stdout",
     "output_type": "stream",
     "text": [
      "Dong Xian    #\n",
      "     Dong Xian    #\n",
      "Dong Xian    #\n"
     ]
    }
   ],
   "source": [
    "name = \"     Dong Xian    #\"\n",
    "print(name.strip())\n",
    "print(name.rstrip())\n",
    "print(name.lstrip())"
   ]
  },
  {
   "cell_type": "markdown",
   "id": "157837c3-6a60-41c5-aabe-05fd285eaf2e",
   "metadata": {},
   "source": [
    "#### 2-8. Number Eight: Write addition, subtraction, multiplication, and divisionoperations that each result in the number 8. Be sure to enclose your operations inprint statements to see the results. You should create four lines that look like this:print(5 + 3)Your output should simply be four lines with the number 8 appearing once on eachline."
   ]
  },
  {
   "cell_type": "code",
   "execution_count": 17,
   "id": "b62daf8f-8e5d-419e-a57a-f9f11a904c33",
   "metadata": {},
   "outputs": [
    {
     "name": "stdout",
     "output_type": "stream",
     "text": [
      "8\n",
      "8\n",
      "8\n",
      "8.0\n"
     ]
    }
   ],
   "source": [
    "print(5+3)\n",
    "print(4*2)\n",
    "print(16-8)\n",
    "print(16/2)"
   ]
  },
  {
   "cell_type": "markdown",
   "id": "fa5ac88d-e032-4b71-a93c-9476fcbbcf29",
   "metadata": {},
   "source": [
    "#### 2-9. Favorite Number: Store your favorite number in a variable. Then, using thatvariable, create a message that reveals your favorite number. Print that message."
   ]
  },
  {
   "cell_type": "code",
   "execution_count": 18,
   "id": "baada051-74bb-49ce-950a-ec96c8e9cfc6",
   "metadata": {},
   "outputs": [
    {
     "name": "stdout",
     "output_type": "stream",
     "text": [
      "5 is my fav number\n"
     ]
    }
   ],
   "source": [
    "num = 5\n",
    "msg = \"is my fav number\"\n",
    "print(num,msg)"
   ]
  },
  {
   "cell_type": "markdown",
   "id": "38858839-8209-4576-9875-ec7040594ff3",
   "metadata": {},
   "source": [
    "#### 2-10. Adding Comments: Choose two of the programs you’ve written, and add atleast one comment to each. If you don’t have anything specific to write because yourprograms are too simple at this point, just add your name and the current date at thetop of each program file. Then write one sentence describing what the program does."
   ]
  },
  {
   "cell_type": "code",
   "execution_count": 19,
   "id": "54a51792-4be0-42f6-b609-85ddc73557df",
   "metadata": {},
   "outputs": [
    {
     "name": "stdout",
     "output_type": "stream",
     "text": [
      "hello\n"
     ]
    }
   ],
   "source": [
    "#This program only prints simple message\n",
    "print(\"hello\")"
   ]
  }
 ],
 "metadata": {
  "kernelspec": {
   "display_name": "Python [conda env:base] *",
   "language": "python",
   "name": "conda-base-py"
  },
  "language_info": {
   "codemirror_mode": {
    "name": "ipython",
    "version": 3
   },
   "file_extension": ".py",
   "mimetype": "text/x-python",
   "name": "python",
   "nbconvert_exporter": "python",
   "pygments_lexer": "ipython3",
   "version": "3.12.7"
  }
 },
 "nbformat": 4,
 "nbformat_minor": 5
}
