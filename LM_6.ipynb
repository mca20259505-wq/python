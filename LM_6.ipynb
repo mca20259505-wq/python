{
 "cells": [
  {
   "cell_type": "markdown",
   "id": "d6d1cdf6-771c-4165-b2b8-5c042040a1fc",
   "metadata": {},
   "source": [
    "#### Printing Dictionary"
   ]
  },
  {
   "cell_type": "code",
   "execution_count": 28,
   "id": "d6ee31b9-0a95-4ade-85ba-98e3b0efe779",
   "metadata": {},
   "outputs": [
    {
     "name": "stdout",
     "output_type": "stream",
     "text": [
      "{1: 'Samir', 2: 'Dong Xian', 3: 'Kaif'}\n",
      "Dong Xian\n"
     ]
    }
   ],
   "source": [
    "dict1 = {1 : \"Samir\", 2 : \"Dong Xian\", 3 : \"Kaif\"}\n",
    "print(dict1)\n",
    "print(dict1[2])"
   ]
  },
  {
   "cell_type": "markdown",
   "id": "9b70860c-23be-444f-93d3-5b1f8ff6ffd8",
   "metadata": {},
   "source": [
    "#### Accessing Elems"
   ]
  },
  {
   "cell_type": "code",
   "execution_count": 9,
   "id": "409c9433-d585-4d96-b9df-86426b8f459a",
   "metadata": {},
   "outputs": [
    {
     "name": "stdout",
     "output_type": "stream",
     "text": [
      "Samir\n",
      "Dong Xian\n",
      "Dong Xian\n",
      "dict_keys([1, 2, 3])\n",
      "dict_values(['Samir', 'Dong Xian', 'Kaif'])\n",
      "dict_items([(1, 'Samir'), (2, 'Dong Xian'), (3, 'Kaif')])\n"
     ]
    }
   ],
   "source": [
    "print(dict1[1])\n",
    "val = dict1[2]\n",
    "print(val)\n",
    "\n",
    "\n",
    "#Get method\n",
    "print(dict1.get(2))\n",
    "\n",
    "# Keys\n",
    "print(dict1.keys())\n",
    "\n",
    "# Values\n",
    "print(dict1.values())\n",
    "\n",
    "#Items\n",
    "print(dict1.items())"
   ]
  },
  {
   "cell_type": "markdown",
   "id": "f77d223a-2b14-4940-9a8e-1e7e2c1581a8",
   "metadata": {},
   "source": [
    "### Change Elems"
   ]
  },
  {
   "cell_type": "code",
   "execution_count": 15,
   "id": "b81dcf63-6bb4-44be-8381-1e139fe19d80",
   "metadata": {},
   "outputs": [
    {
     "name": "stdout",
     "output_type": "stream",
     "text": [
      "{1: 'sam', 2: 'Dong Xian', 3: 'Kaif'}\n"
     ]
    }
   ],
   "source": [
    "dict1[1] = \"xyz\"\n",
    "\n",
    "#update() method\n",
    "dict1.update({1:\"sam\"})\n",
    "print(dict1)"
   ]
  },
  {
   "cell_type": "markdown",
   "id": "5f04df53-3fb1-48a8-9446-637d0f3a515e",
   "metadata": {},
   "source": [
    "### Add Items"
   ]
  },
  {
   "cell_type": "code",
   "execution_count": 30,
   "id": "862d1389-130d-47cb-a0aa-deb66a7b8073",
   "metadata": {},
   "outputs": [
    {
     "name": "stdout",
     "output_type": "stream",
     "text": [
      "{1: 'Samir', 2: 'Dong Xian', 3: 'Kaif', 4: 'sakib'}\n"
     ]
    }
   ],
   "source": [
    "dict1[4] = \"sakib\"\n",
    "print(dict1)\n",
    "\n"
   ]
  },
  {
   "cell_type": "markdown",
   "id": "7331dcd8-327e-4ca1-a21f-db80fc4ec774",
   "metadata": {},
   "source": [
    "### Remove Elems"
   ]
  },
  {
   "cell_type": "code",
   "execution_count": 26,
   "id": "51420091-503f-4017-b2ec-8ffada1ea83c",
   "metadata": {},
   "outputs": [
    {
     "name": "stdout",
     "output_type": "stream",
     "text": [
      "{1: 'Samir', 2: 'Dong Xian', 3: 'Kaif'}\n",
      "{1: 'Samir', 2: 'Dong Xian', 3: 'Kaif'}\n",
      "{1: 'Samir', 3: 'Kaif'}\n"
     ]
    }
   ],
   "source": [
    "#pop() method\n",
    "# dict1.pop(1)\n",
    "print(dict1)\n",
    "\n",
    "#popitem() method\n",
    "# dict1.popitem()\n",
    "print(dict1)\n",
    "\n",
    "#clear()\n",
    "# print(dict1.clear())\n",
    "\n",
    "#del\n",
    "# del dict1[2]\n",
    "print(dict1)"
   ]
  },
  {
   "cell_type": "markdown",
   "id": "8615192b-42f3-4be9-8c14-a9a8f75da6f5",
   "metadata": {},
   "source": [
    "### Loop through dicts"
   ]
  },
  {
   "cell_type": "code",
   "execution_count": 35,
   "id": "2d5d7f8a-3dcf-44f9-a254-13be0c38d6db",
   "metadata": {},
   "outputs": [
    {
     "name": "stdout",
     "output_type": "stream",
     "text": [
      "1\n",
      "2\n",
      "3\n",
      "4\n",
      "keys only 1\n",
      "keys only 2\n",
      "keys only 3\n",
      "keys only 4\n",
      "\n",
      "\n",
      "values only Samir\n",
      "values only Dong Xian\n",
      "values only Kaif\n",
      "values only sakib\n",
      "\n",
      " items() method\n",
      "1 Samir\n",
      "2 Dong Xian\n",
      "3 Kaif\n",
      "4 sakib\n"
     ]
    }
   ],
   "source": [
    "for ele in dict1:\n",
    "    print(ele)\n",
    "\n",
    "for k in dict1.keys():\n",
    "    print(\"keys only\",k)\n",
    "print(\"\\n\")\n",
    "for v in dict1.values():\n",
    "    print(\"values only\",v)\n",
    "\n",
    "print(\"\\n items() method\")\n",
    "for k,v in dict1.items():\n",
    "    print(k,v)"
   ]
  }
 ],
 "metadata": {
  "kernelspec": {
   "display_name": "Python [conda env:base] *",
   "language": "python",
   "name": "conda-base-py"
  },
  "language_info": {
   "codemirror_mode": {
    "name": "ipython",
    "version": 3
   },
   "file_extension": ".py",
   "mimetype": "text/x-python",
   "name": "python",
   "nbconvert_exporter": "python",
   "pygments_lexer": "ipython3",
   "version": "3.12.7"
  }
 },
 "nbformat": 4,
 "nbformat_minor": 5
}
