{
 "cells": [
  {
   "cell_type": "code",
   "execution_count": 3,
   "id": "07fd18eb-2396-435b-b96b-cdb61acd1195",
   "metadata": {},
   "outputs": [
    {
     "name": "stdin",
     "output_type": "stream",
     "text": [
      "enter number : 3\n"
     ]
    },
    {
     "name": "stdout",
     "output_type": "stream",
     "text": [
      "3 is prime\n"
     ]
    }
   ],
   "source": [
    "from sympy import isprime\n",
    "n = int(input(\"enter number :\"))\n",
    "if isprime(n):\n",
    "    print(f\"{n} is prime\")\n",
    "else:\n",
    "    print(f\"{n} isnt prime\")"
   ]
  }
 ],
 "metadata": {
  "kernelspec": {
   "display_name": "Python [conda env:base] *",
   "language": "python",
   "name": "conda-base-py"
  },
  "language_info": {
   "codemirror_mode": {
    "name": "ipython",
    "version": 3
   },
   "file_extension": ".py",
   "mimetype": "text/x-python",
   "name": "python",
   "nbconvert_exporter": "python",
   "pygments_lexer": "ipython3",
   "version": "3.12.7"
  }
 },
 "nbformat": 4,
 "nbformat_minor": 5
}
