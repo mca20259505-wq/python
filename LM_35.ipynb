{
 "cells": [
  {
   "cell_type": "markdown",
   "id": "a5d03651-88e8-4dfc-af58-8203c82e94ba",
   "metadata": {},
   "source": [
    "#### List sequance"
   ]
  },
  {
   "cell_type": "code",
   "execution_count": 1,
   "id": "dd298637-f264-4d1a-9237-5be043c15d93",
   "metadata": {},
   "outputs": [
    {
     "name": "stdout",
     "output_type": "stream",
     "text": [
      "apple\n",
      "banana\n",
      "cherry\n",
      "pineapple\n",
      "peach\n"
     ]
    }
   ],
   "source": [
    "lst = [\"apple\",\"banana\",\"cherry\",\"pineapple\",\"peach\"]\n",
    "for val in lst:\n",
    "    print(val)"
   ]
  },
  {
   "cell_type": "markdown",
   "id": "2a671b0a-128d-416b-ad16-af8821c4ace0",
   "metadata": {},
   "source": [
    "#### set sequance"
   ]
  },
  {
   "cell_type": "code",
   "execution_count": 2,
   "id": "aafdb370-8e3e-4a94-a7ad-38d08b566c44",
   "metadata": {},
   "outputs": [
    {
     "name": "stdout",
     "output_type": "stream",
     "text": [
      "cherry\n",
      "banana\n",
      "pineapple\n",
      "apple\n"
     ]
    }
   ],
   "source": [
    "st = {\"apple\",\"banana\",\"cherry\",\"pineapple\"}\n",
    "for ele in st :\n",
    "    print(ele)"
   ]
  },
  {
   "cell_type": "markdown",
   "id": "c0e09a33-3dca-4463-b314-40c0a9375f89",
   "metadata": {},
   "source": [
    "#### Tuple sequance"
   ]
  },
  {
   "cell_type": "code",
   "execution_count": 3,
   "id": "5226b702-16ca-42c3-b9be-c9217bf3c2a4",
   "metadata": {},
   "outputs": [
    {
     "name": "stdout",
     "output_type": "stream",
     "text": [
      "india\n",
      "china\n",
      "russia\n",
      "japan\n"
     ]
    }
   ],
   "source": [
    "tp = (\"india\",\"china\",\"russia\",\"japan\")\n",
    "for ele in tp:\n",
    "    print(ele)"
   ]
  },
  {
   "cell_type": "markdown",
   "id": "3fe4d623-87a1-4ed2-85ba-349816d67d4d",
   "metadata": {},
   "source": [
    "#### dictionary"
   ]
  },
  {
   "cell_type": "code",
   "execution_count": 7,
   "id": "f5d952a5-2c3e-4bd7-96da-6c0ee910de7a",
   "metadata": {},
   "outputs": [
    {
     "name": "stdout",
     "output_type": "stream",
     "text": [
      "(1, 'india')\n",
      "(2, 'china')\n",
      "(3, 'japan')\n",
      "(4, 'russia')\n"
     ]
    }
   ],
   "source": [
    "dict1 = {1 : \"india\", 2: \"china\",3:\"japan\",4:\"russia\"}\n",
    "for ele in dict1.items() :\n",
    "    print(ele)"
   ]
  },
  {
   "cell_type": "markdown",
   "id": "4fa952cc-1dec-4a5f-841b-1b2ea3ac0260",
   "metadata": {},
   "source": [
    "#### String sequnce"
   ]
  },
  {
   "cell_type": "code",
   "execution_count": 8,
   "id": "63f07cc8-ff73-4064-aa08-9a5c03e0c82a",
   "metadata": {},
   "outputs": [
    {
     "name": "stdout",
     "output_type": "stream",
     "text": [
      "h\n",
      "e\n",
      "l\n",
      "l\n",
      "o\n",
      " \n",
      "b\n",
      "i\n",
      "t\n",
      "c\n",
      "h\n"
     ]
    }
   ],
   "source": [
    "s = \"hello bitch\"\n",
    "for v in s:\n",
    "    print(v)"
   ]
  },
  {
   "cell_type": "markdown",
   "id": "e282ea4e-9689-4fc8-9f86-fa3c7dbc551f",
   "metadata": {},
   "source": [
    "#### Number sequance "
   ]
  },
  {
   "cell_type": "code",
   "execution_count": 10,
   "id": "27f9b2d3-0f7c-4890-88a4-f285a6a77b09",
   "metadata": {},
   "outputs": [
    {
     "name": "stdout",
     "output_type": "stream",
     "text": [
      "0\n",
      "1\n",
      "2\n",
      "3\n",
      "4\n",
      "5\n",
      "6\n",
      "7\n",
      "8\n",
      "9\n",
      "10\n",
      "11\n"
     ]
    }
   ],
   "source": [
    "\n",
    "for n in range(12):\n",
    "    print(n)"
   ]
  }
 ],
 "metadata": {
  "kernelspec": {
   "display_name": "Python [conda env:base] *",
   "language": "python",
   "name": "conda-base-py"
  },
  "language_info": {
   "codemirror_mode": {
    "name": "ipython",
    "version": 3
   },
   "file_extension": ".py",
   "mimetype": "text/x-python",
   "name": "python",
   "nbconvert_exporter": "python",
   "pygments_lexer": "ipython3",
   "version": "3.12.7"
  }
 },
 "nbformat": 4,
 "nbformat_minor": 5
}
