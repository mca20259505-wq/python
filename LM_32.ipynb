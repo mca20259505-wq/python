{
 "cells": [
  {
   "cell_type": "code",
   "execution_count": 3,
   "id": "a538dda4-ef03-4aea-9af1-f525fc4da4ad",
   "metadata": {},
   "outputs": [
    {
     "name": "stdin",
     "output_type": "stream",
     "text": [
      "enter a word baby!! hel\n"
     ]
    },
    {
     "name": "stdout",
     "output_type": "stream",
     "text": [
      "leh\n"
     ]
    }
   ],
   "source": [
    "word = input(\"enter a word baby!!\")\n",
    "print(word[::-1])"
   ]
  }
 ],
 "metadata": {
  "kernelspec": {
   "display_name": "Python [conda env:base] *",
   "language": "python",
   "name": "conda-base-py"
  },
  "language_info": {
   "codemirror_mode": {
    "name": "ipython",
    "version": 3
   },
   "file_extension": ".py",
   "mimetype": "text/x-python",
   "name": "python",
   "nbconvert_exporter": "python",
   "pygments_lexer": "ipython3",
   "version": "3.12.7"
  }
 },
 "nbformat": 4,
 "nbformat_minor": 5
}
