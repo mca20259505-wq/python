{
 "cells": [
  {
   "cell_type": "code",
   "execution_count": 21,
   "id": "18d5e199-62fc-4a06-bad9-41c16473fa39",
   "metadata": {},
   "outputs": [
    {
     "name": "stdout",
     "output_type": "stream",
     "text": [
      "Initial deque : deque([1, 2, 3])\n",
      "1st update : deque([1, 2, 3, 4])\n",
      "2nd update : deque([0, 1, 2, 3, 4])\n",
      "\n",
      " poped item : 4\n",
      "deque([0, 1, 2, 3])\n",
      "\n",
      " poped left item : 0\n",
      "deque([1, 2, 3])\n",
      "deque([1, 2, 3, 4, 5, 6])\n",
      "deque([-3, -2, -1, 0, 1, 2, 3, 4, 5, 6])\n",
      "deque([3, 4, 5, 6, -3, -2, -1, 0, 1, 2])\n",
      "deque([3, 5, 6, -3, -2, -1, 0, 1, 2])\n"
     ]
    },
    {
     "ename": "NameError",
     "evalue": "name 'printcount' is not defined",
     "output_type": "error",
     "traceback": [
      "\u001b[1;31m---------------------------------------------------------------------------\u001b[0m",
      "\u001b[1;31mNameError\u001b[0m                                 Traceback (most recent call last)",
      "Cell \u001b[1;32mIn[21], line 37\u001b[0m\n\u001b[0;32m     35\u001b[0m dq\u001b[38;5;241m.\u001b[39mremove(\u001b[38;5;241m4\u001b[39m)\n\u001b[0;32m     36\u001b[0m \u001b[38;5;28mprint\u001b[39m(dq)\n\u001b[1;32m---> 37\u001b[0m printcount(dq)\n",
      "\u001b[1;31mNameError\u001b[0m: name 'printcount' is not defined"
     ]
    }
   ],
   "source": [
    "from collections import deque\n",
    "\n",
    "dq = deque([1,2,3])\n",
    "print(\"Initial deque :\",dq)\n",
    "\n",
    "dq.append(4)\n",
    "print(\"1st update :\",dq)\n",
    "\n",
    "# appendleft\n",
    "dq.appendleft(0)\n",
    "print(\"2nd update :\",dq)\n",
    "\n",
    "# pop()\n",
    "pop_item = dq.pop()\n",
    "print(f\"\\n poped item : {pop_item}\")\n",
    "print(dq)\n",
    "\n",
    "popleft_item = dq.popleft()\n",
    "print(f\"\\n poped left item : {popleft_item}\")\n",
    "print(dq)\n",
    "\n",
    "# extend()\n",
    "dq.extend([4,5,6])\n",
    "print(dq)\n",
    "\n",
    "# extendleft()\n",
    "dq.extendleft([0,-1,-2,-3])\n",
    "print(dq)\n",
    "\n",
    "# rotate()\n",
    "dq.rotate(4)\n",
    "print(dq)\n",
    "\n",
    "# remove()\n",
    "dq.remove(4)\n",
    "print(dq)\n"
   ]
  }
 ],
 "metadata": {
  "kernelspec": {
   "display_name": "Python [conda env:base] *",
   "language": "python",
   "name": "conda-base-py"
  },
  "language_info": {
   "codemirror_mode": {
    "name": "ipython",
    "version": 3
   },
   "file_extension": ".py",
   "mimetype": "text/x-python",
   "name": "python",
   "nbconvert_exporter": "python",
   "pygments_lexer": "ipython3",
   "version": "3.12.7"
  }
 },
 "nbformat": 4,
 "nbformat_minor": 5
}
