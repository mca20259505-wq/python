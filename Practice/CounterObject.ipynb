{
 "cells": [
  {
   "cell_type": "code",
   "execution_count": 2,
   "id": "10111f4c-f7d8-475e-9a18-14bf2ac9a6ab",
   "metadata": {},
   "outputs": [],
   "source": [
    "from collections import Counter"
   ]
  },
  {
   "cell_type": "code",
   "execution_count": 16,
   "id": "407d0bed-de2f-40a8-8fcd-c4966f33dee1",
   "metadata": {},
   "outputs": [
    {
     "name": "stdout",
     "output_type": "stream",
     "text": [
      "Counter({2: 3, 1: 2, 5: 2, 3: 1, 4: 1})\n",
      "Counter({'n': 2, 'D': 1, 'o': 1, 'g': 1, ' ': 1, 'X': 1, 'i': 1, 'a': 1})\n",
      "3\n",
      "[1, 1, 2, 2, 2, 5, 5, 3, 4]\n",
      "[(2, 3), (1, 2)]\n",
      "3\n"
     ]
    }
   ],
   "source": [
    "lst = [1,2,2,5,3,4,5,1,2]\n",
    "count = Counter(lst)\n",
    "print(count)\n",
    "\n",
    "#string\n",
    "s = \"Dong Xian\"\n",
    "print(Counter(s))\n",
    "c = Counter(lst)\n",
    "print(c[2])\n",
    "print(list(c.elements()))\n",
    "print(c.most_common(2))\n",
    "lst2 = [1,2,3]\n",
    "c2  = Counter(lst2)\n",
    "print(c2.total())"
   ]
  }
 ],
 "metadata": {
  "kernelspec": {
   "display_name": "Python [conda env:base] *",
   "language": "python",
   "name": "conda-base-py"
  },
  "language_info": {
   "codemirror_mode": {
    "name": "ipython",
    "version": 3
   },
   "file_extension": ".py",
   "mimetype": "text/x-python",
   "name": "python",
   "nbconvert_exporter": "python",
   "pygments_lexer": "ipython3",
   "version": "3.12.7"
  }
 },
 "nbformat": 4,
 "nbformat_minor": 5
}
