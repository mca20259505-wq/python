{
 "cells": [
  {
   "cell_type": "code",
   "execution_count": 1,
   "id": "5ac8cfb9-8636-4583-8114-9e5c1cb10ad3",
   "metadata": {},
   "outputs": [
    {
     "name": "stdin",
     "output_type": "stream",
     "text": [
      "enter number: 10\n"
     ]
    },
    {
     "name": "stdout",
     "output_type": "stream",
     "text": [
      "2\n",
      "4\n",
      "6\n",
      "8\n",
      "else in for loop\n"
     ]
    }
   ],
   "source": [
    "num = int(input(\"enter number:\"))\n",
    "lst = [x for x in range(1,num)]\n",
    "for n in lst :\n",
    "    if n % 2 == 0 :\n",
    "        print(n)\n",
    "else:\n",
    "    print(\"else in for loop\")"
   ]
  }
 ],
 "metadata": {
  "kernelspec": {
   "display_name": "Python [conda env:base] *",
   "language": "python",
   "name": "conda-base-py"
  },
  "language_info": {
   "codemirror_mode": {
    "name": "ipython",
    "version": 3
   },
   "file_extension": ".py",
   "mimetype": "text/x-python",
   "name": "python",
   "nbconvert_exporter": "python",
   "pygments_lexer": "ipython3",
   "version": "3.12.7"
  }
 },
 "nbformat": 4,
 "nbformat_minor": 5
}
