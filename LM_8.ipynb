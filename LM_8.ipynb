{
 "cells": [
  {
   "cell_type": "code",
   "execution_count": 9,
   "id": "73909399-5d70-4b60-b11a-ee2be43d867d",
   "metadata": {},
   "outputs": [
    {
     "name": "stdout",
     "output_type": "stream",
     "text": [
      "5 + 95 = 100\n",
      "5 - 95 = 90\n",
      "5 * 95 = 475\n",
      "5 / 95 = 19.0\n"
     ]
    }
   ],
   "source": [
    "num1 = 5\n",
    "num2 = 95\n",
    "t = num2\n",
    "num2 += num1\n",
    "print(f\"{num1} + {t} = {num2}\")\n",
    "\n",
    "num2 = t\n",
    "num2 -= num1\n",
    "print(f\"{num1} - {t} = {num2}\")\n",
    "\n",
    "num2= t\n",
    "num2 *= num1\n",
    "print(f\"{num1} * {t} = {num2}\")\n",
    "\n",
    "num2 = t\n",
    "num2 /= num1\n",
    "print(f\"{num1} / {t} = {num2}\")"
   ]
  }
 ],
 "metadata": {
  "kernelspec": {
   "display_name": "Python [conda env:base] *",
   "language": "python",
   "name": "conda-base-py"
  },
  "language_info": {
   "codemirror_mode": {
    "name": "ipython",
    "version": 3
   },
   "file_extension": ".py",
   "mimetype": "text/x-python",
   "name": "python",
   "nbconvert_exporter": "python",
   "pygments_lexer": "ipython3",
   "version": "3.12.7"
  }
 },
 "nbformat": 4,
 "nbformat_minor": 5
}
