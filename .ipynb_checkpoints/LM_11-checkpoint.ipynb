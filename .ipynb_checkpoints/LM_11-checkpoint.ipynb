{
 "cells": [
  {
   "cell_type": "code",
   "execution_count": 9,
   "id": "9e6fd746-9a1b-47cf-8321-c169aadc1fee",
   "metadata": {},
   "outputs": [
    {
     "name": "stdin",
     "output_type": "stream",
     "text": [
      "enter amount : 11000\n"
     ]
    },
    {
     "name": "stdout",
     "output_type": "stream",
     "text": [
      "12100.0\n"
     ]
    }
   ],
   "source": [
    "amount = float(input(\"enter amount :\"))\n",
    "if(amount >= 1000 and amount <= 10000):\n",
    "    interest = amount * 0.05\n",
    "    amount += interest\n",
    "    print(amount)\n",
    "elif amount > 10000:\n",
    "    interest = amount * 0.10\n",
    "    amount += interest\n",
    "    print(amount )\n",
    "else :\n",
    "    print(amount)"
   ]
  }
 ],
 "metadata": {
  "kernelspec": {
   "display_name": "Python [conda env:base] *",
   "language": "python",
   "name": "conda-base-py"
  },
  "language_info": {
   "codemirror_mode": {
    "name": "ipython",
    "version": 3
   },
   "file_extension": ".py",
   "mimetype": "text/x-python",
   "name": "python",
   "nbconvert_exporter": "python",
   "pygments_lexer": "ipython3",
   "version": "3.12.7"
  }
 },
 "nbformat": 4,
 "nbformat_minor": 5
}
