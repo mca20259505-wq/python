{
 "cells": [
  {
   "cell_type": "code",
   "execution_count": 5,
   "id": "03e45516-aaf9-4067-82cb-66049f37f786",
   "metadata": {},
   "outputs": [
    {
     "name": "stdin",
     "output_type": "stream",
     "text": [
      "enter radius 5\n"
     ]
    },
    {
     "name": "stdout",
     "output_type": "stream",
     "text": [
      "area of circle is : 78.53981633974483\n"
     ]
    }
   ],
   "source": [
    "import math\n",
    "radius = float(input(\"enter radius\"))\n",
    "print(f\"area of circle is : {math.pi * radius ** 2}\")"
   ]
  }
 ],
 "metadata": {
  "kernelspec": {
   "display_name": "Python [conda env:base] *",
   "language": "python",
   "name": "conda-base-py"
  },
  "language_info": {
   "codemirror_mode": {
    "name": "ipython",
    "version": 3
   },
   "file_extension": ".py",
   "mimetype": "text/x-python",
   "name": "python",
   "nbconvert_exporter": "python",
   "pygments_lexer": "ipython3",
   "version": "3.12.7"
  }
 },
 "nbformat": 4,
 "nbformat_minor": 5
}
