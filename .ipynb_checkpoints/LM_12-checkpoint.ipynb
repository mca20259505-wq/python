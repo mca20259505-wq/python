{
 "cells": [
  {
   "cell_type": "code",
   "execution_count": 6,
   "id": "8f12f381-6d4b-4a01-8b7f-8798b4e4725d",
   "metadata": {},
   "outputs": [
    {
     "name": "stdin",
     "output_type": "stream",
     "text": [
      "enter percentage : 56\n",
      "enter attendance : 70\n"
     ]
    },
    {
     "name": "stdout",
     "output_type": "stream",
     "text": [
      "Passout\n"
     ]
    }
   ],
   "source": [
    "percentage = float(input('enter percentage :'))\n",
    "attendance  = float(input(\"enter attendance :\"))\n",
    "if(percentage >= 90.0):\n",
    "    if(attendance <= 80.0):\n",
    "        print(\"Grade A-\")\n",
    "    \n",
    "elif percentage    >= 70   and percentage < 90:\n",
    "    if attendance < 70.0:\n",
    "        print(\"Grade B-\")\n",
    "else:\n",
    "    print(\"Passout\")"
   ]
  }
 ],
 "metadata": {
  "kernelspec": {
   "display_name": "Python [conda env:base] *",
   "language": "python",
   "name": "conda-base-py"
  },
  "language_info": {
   "codemirror_mode": {
    "name": "ipython",
    "version": 3
   },
   "file_extension": ".py",
   "mimetype": "text/x-python",
   "name": "python",
   "nbconvert_exporter": "python",
   "pygments_lexer": "ipython3",
   "version": "3.12.7"
  }
 },
 "nbformat": 4,
 "nbformat_minor": 5
}
