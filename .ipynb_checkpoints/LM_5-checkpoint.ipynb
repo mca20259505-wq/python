{
 "cells": [
  {
   "cell_type": "markdown",
   "id": "0934fdaf-f9a3-41fe-99f2-318826636724",
   "metadata": {},
   "source": [
    "### Printing Tuple"
   ]
  },
  {
   "cell_type": "code",
   "execution_count": 1,
   "id": "ed0d8a3c-cec4-4169-9151-4063b82c7c3a",
   "metadata": {},
   "outputs": [
    {
     "name": "stdout",
     "output_type": "stream",
     "text": [
      "(1, 2, 3, 4, 5)\n",
      "('China', 'Indu', 'Russia', 'United Kingdom')\n"
     ]
    }
   ],
   "source": [
    "tp = (1,2,3,4,5)\n",
    "tp1 = (\"China\",\"Indu\",\"Russia\",\"United Kingdom\")\n",
    "print(tp)\n",
    "print(tp1)"
   ]
  },
  {
   "cell_type": "markdown",
   "id": "146a1153-860d-46c4-92b5-6add3a1f9c13",
   "metadata": {},
   "source": [
    "### Accessing Elems "
   ]
  },
  {
   "cell_type": "code",
   "execution_count": 9,
   "id": "c67d1bd5-62b5-4ef1-b109-bc3224ebe04d",
   "metadata": {},
   "outputs": [
    {
     "name": "stdout",
     "output_type": "stream",
     "text": [
      "1\n",
      "2\n",
      "3\n",
      "4\n",
      "5\n",
      "China\n",
      "Indu\n",
      "Russia\n",
      "United Kingdom\n",
      "(1, 'China')\n",
      "(2, 'Indu')\n",
      "(3, 'Russia')\n",
      "(4, 'United Kingdom')\n",
      "(2, 3, 4, 5)\n",
      "('Indu', 'Russia', 'United Kingdom')\n",
      "('China', 'Russia')\n"
     ]
    }
   ],
   "source": [
    "for n in tp :\n",
    "    print(n)\n",
    "for country in tp1:\n",
    "    print(country)\n",
    "for ele in zip(tp,tp1):\n",
    "    print(ele)\n",
    "print(tp[1:5])\n",
    "print(tp1[1:5])\n",
    "print(tp1[:5:2])"
   ]
  },
  {
   "cell_type": "markdown",
   "id": "08e0bb5a-461b-48c6-b561-4de046dab44d",
   "metadata": {},
   "source": [
    "### Update elems"
   ]
  },
  {
   "cell_type": "code",
   "execution_count": 24,
   "id": "ec3c7f7d-2b2d-49a0-bf81-a30ae0eab010",
   "metadata": {},
   "outputs": [
    {
     "name": "stdout",
     "output_type": "stream",
     "text": [
      "('China', 'Indu', 'Russia', 'Japan', 'Pluto', 'Pluto', 'Pluto', 'Saturn')\n"
     ]
    }
   ],
   "source": [
    "lst = list(tp1)\n",
    "# print(lst)\n",
    "lst[3] = \"Japan\"\n",
    "lst.append(\"Saturn\")\n",
    "# print(lst)\n",
    "tp1 = tuple(lst)\n",
    "print(tp1)"
   ]
  },
  {
   "cell_type": "markdown",
   "id": "363e4983-170b-4ac2-85f1-077b8195cd84",
   "metadata": {},
   "source": [
    "### Remove Elems"
   ]
  },
  {
   "cell_type": "code",
   "execution_count": 26,
   "id": "93f57322-30e7-409b-ba16-457a4291ea54",
   "metadata": {},
   "outputs": [
    {
     "name": "stdout",
     "output_type": "stream",
     "text": [
      "('China', 'Indu', 'Russia', 'Japan', 'Pluto', 'Pluto', 'Saturn')\n"
     ]
    }
   ],
   "source": [
    "lst  = list(tp1)\n",
    "lst.remove(\"Pluto\")\n",
    "tp100 = tuple(lst)\n",
    "print(tp100)\n",
    "\n"
   ]
  },
  {
   "cell_type": "markdown",
   "id": "c8d3e05d-b7ee-493f-925e-6fdbc6e89fa8",
   "metadata": {},
   "source": [
    "#### deleting tuple"
   ]
  },
  {
   "cell_type": "code",
   "execution_count": 27,
   "id": "5d0b4fd3-ec40-4867-ac25-4fe8051d4797",
   "metadata": {},
   "outputs": [
    {
     "ename": "NameError",
     "evalue": "name 'tp' is not defined",
     "output_type": "error",
     "traceback": [
      "\u001b[1;31m---------------------------------------------------------------------------\u001b[0m",
      "\u001b[1;31mNameError\u001b[0m                                 Traceback (most recent call last)",
      "Cell \u001b[1;32mIn[27], line 3\u001b[0m\n\u001b[0;32m      1\u001b[0m \u001b[38;5;28;01mdel\u001b[39;00m tp1\n\u001b[0;32m      2\u001b[0m \u001b[38;5;28;01mdel\u001b[39;00m tp\n\u001b[1;32m----> 3\u001b[0m \u001b[38;5;28mprint\u001b[39m(tp)\n",
      "\u001b[1;31mNameError\u001b[0m: name 'tp' is not defined"
     ]
    }
   ],
   "source": [
    "del tp1\n",
    "del tp\n",
    "print(tp)"
   ]
  },
  {
   "cell_type": "markdown",
   "id": "b2c79fc5-c6da-4b60-9d20-624e08f453fe",
   "metadata": {},
   "source": [
    "#### Concatenation"
   ]
  },
  {
   "cell_type": "code",
   "execution_count": 3,
   "id": "40bd9258-fda6-468e-a51a-bb00a766358b",
   "metadata": {},
   "outputs": [
    {
     "name": "stdout",
     "output_type": "stream",
     "text": [
      "(1, 2, 3, 4, 5, 'China', 'Indu', 'Russia', 'United Kingdom')\n"
     ]
    }
   ],
   "source": [
    "print(tp + tp1)"
   ]
  },
  {
   "cell_type": "markdown",
   "id": "2aaa62ba-3ac1-41f9-8509-c0fdf755e04a",
   "metadata": {},
   "source": [
    "#### Repeatation"
   ]
  },
  {
   "cell_type": "code",
   "execution_count": 5,
   "id": "b4bdc031-c449-4dd2-a5d1-eb003b382b08",
   "metadata": {},
   "outputs": [
    {
     "name": "stdout",
     "output_type": "stream",
     "text": [
      "(1, 2, 3, 4, 5, 1, 2, 3, 4, 5)\n"
     ]
    }
   ],
   "source": [
    "print(tp*2)"
   ]
  },
  {
   "cell_type": "markdown",
   "id": "4817864b-c571-4cd8-9df0-1cb582bf0a56",
   "metadata": {},
   "source": [
    "#### Length"
   ]
  },
  {
   "cell_type": "code",
   "execution_count": 6,
   "id": "636671aa-e207-4998-9c3c-65a27d4c38c0",
   "metadata": {},
   "outputs": [
    {
     "name": "stdout",
     "output_type": "stream",
     "text": [
      "5\n"
     ]
    }
   ],
   "source": [
    "print(len(tp))"
   ]
  },
  {
   "cell_type": "markdown",
   "id": "59156277-ebf7-4917-bf0f-eff4c42f996d",
   "metadata": {},
   "source": [
    "#### Membership Testing"
   ]
  },
  {
   "cell_type": "code",
   "execution_count": 7,
   "id": "2433d8d8-6297-4a98-adbb-91b68537df6c",
   "metadata": {},
   "outputs": [
    {
     "name": "stdout",
     "output_type": "stream",
     "text": [
      "True\n"
     ]
    }
   ],
   "source": [
    "print(\"China\" in tp1)"
   ]
  }
 ],
 "metadata": {
  "kernelspec": {
   "display_name": "Python [conda env:base] *",
   "language": "python",
   "name": "conda-base-py"
  },
  "language_info": {
   "codemirror_mode": {
    "name": "ipython",
    "version": 3
   },
   "file_extension": ".py",
   "mimetype": "text/x-python",
   "name": "python",
   "nbconvert_exporter": "python",
   "pygments_lexer": "ipython3",
   "version": "3.12.7"
  }
 },
 "nbformat": 4,
 "nbformat_minor": 5
}
