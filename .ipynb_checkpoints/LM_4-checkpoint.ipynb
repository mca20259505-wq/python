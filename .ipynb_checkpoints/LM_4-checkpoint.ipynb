{
 "cells": [
  {
   "cell_type": "markdown",
   "id": "7038dc3a-c1b7-4aa1-a537-5dc411b9cee3",
   "metadata": {},
   "source": [
    "#### QS:4.1 :: 4-1. Names: Store the names of a few of your friends in a list called names. Print eachperson’s name by accessing each element in the list, one at a time."
   ]
  },
  {
   "cell_type": "code",
   "execution_count": 7,
   "id": "2fa37aaf-aa2f-405e-8992-efc28f930461",
   "metadata": {},
   "outputs": [
    {
     "name": "stdout",
     "output_type": "stream",
     "text": [
      "China\n",
      "Japan\n",
      "\n",
      "Using Loop :\n",
      "\n",
      "China\n",
      "India\n",
      "Russia\n",
      "Mangolia\n",
      "Japan\n",
      "United Kingdom\n",
      "United States\n",
      "European Union\n"
     ]
    }
   ],
   "source": [
    "Countries = [\"China\",\"India\",\"Russia\",\"Mangolia\",\"Japan\",\"United Kingdom\",\"United States\",\"European Union\"]\n",
    "print(Countries[0])\n",
    "print(Countries[4])\n",
    "\n",
    "print(\"\\nUsing Loop :\\n\")\n",
    "for Country in Countries :\n",
    "    print(Country)"
   ]
  },
  {
   "cell_type": "markdown",
   "id": "93adde25-5db1-433d-836c-d94563cd2b06",
   "metadata": {},
   "source": [
    "#### QS:4.2 :: Greetings: Start with the list you used in Exercise 4-1, but instead of just printingeach person’s name, print a message to them. The text of each message should be thesame, but each message should be personalized with the person’s name."
   ]
  },
  {
   "cell_type": "code",
   "execution_count": 9,
   "id": "a72e49b0-431d-4989-9f11-9e8a6b8477f8",
   "metadata": {},
   "outputs": [
    {
     "name": "stdout",
     "output_type": "stream",
     "text": [
      "Hello!! China\n",
      "Hello!! India\n",
      "Hello!! Russia\n",
      "Hello!! Mangolia\n",
      "Hello!! Japan\n",
      "Hello!! United Kingdom\n",
      "Hello!! United States\n",
      "Hello!! European Union\n"
     ]
    }
   ],
   "source": [
    "for Country in Countries :\n",
    "    print(\"Hello!!\",Country)"
   ]
  },
  {
   "cell_type": "markdown",
   "id": "f0e4583a-36dd-4e16-bb91-1ef94bd23674",
   "metadata": {},
   "source": [
    "#### QS:4.3 :: Your Own List: Think of your favorite mode of transportation, such as amotorcycle or a car, and make a list that stores several examples. Use your list to printa series of statements about these items, such as “I would like to own a Hondamotorcycle.”"
   ]
  },
  {
   "cell_type": "code",
   "execution_count": 12,
   "id": "3fd6ac52-ecb5-4a0a-a812-302e6b470d20",
   "metadata": {},
   "outputs": [
    {
     "name": "stdout",
     "output_type": "stream",
     "text": [
      "I would like to travel in : Lambo\n",
      "I would like to travel in : RR\n",
      "I would like to travel in : BMW\n",
      "I would like to travel in : Mustang\n",
      "I would like to travel in : Kawasaki\n",
      "I would like to travel in : Bugati\n",
      "I would like to travel in : Farrari\n"
     ]
    }
   ],
   "source": [
    "Transports = [\"Lambo\",\"RR\",\"BMW\",\"Mustang\",\"Kawasaki\",\"Bugati\",\"Farrari\"]\n",
    "for Transport in Transports :\n",
    "    print(\"I would like to travel in :\",Transport)"
   ]
  }
 ],
 "metadata": {
  "kernelspec": {
   "display_name": "Python [conda env:base] *",
   "language": "python",
   "name": "conda-base-py"
  },
  "language_info": {
   "codemirror_mode": {
    "name": "ipython",
    "version": 3
   },
   "file_extension": ".py",
   "mimetype": "text/x-python",
   "name": "python",
   "nbconvert_exporter": "python",
   "pygments_lexer": "ipython3",
   "version": "3.12.7"
  }
 },
 "nbformat": 4,
 "nbformat_minor": 5
}
