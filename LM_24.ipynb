{
 "cells": [
  {
   "cell_type": "code",
   "execution_count": 1,
   "id": "b3ea3e1e-ae67-41d4-9cc5-f8407f8d9ae8",
   "metadata": {},
   "outputs": [
    {
     "name": "stdin",
     "output_type": "stream",
     "text": [
      "enter starter  3\n",
      "enter end : 20\n"
     ]
    },
    {
     "name": "stdout",
     "output_type": "stream",
     "text": [
      "3\n",
      "5\n",
      "7\n",
      "11\n",
      "13\n",
      "17\n",
      "19\n"
     ]
    }
   ],
   "source": [
    "from sympy import *\n",
    "num1 = int(input(\"enter starter \"))\n",
    "num2 = int(input(\"enter end :\"))\n",
    "\n",
    "for val in range(num1,num2):\n",
    "    if isprime(val):\n",
    "        print(val)\n",
    "    else:\n",
    "        pass\n"
   ]
  }
 ],
 "metadata": {
  "kernelspec": {
   "display_name": "Python [conda env:base] *",
   "language": "python",
   "name": "conda-base-py"
  },
  "language_info": {
   "codemirror_mode": {
    "name": "ipython",
    "version": 3
   },
   "file_extension": ".py",
   "mimetype": "text/x-python",
   "name": "python",
   "nbconvert_exporter": "python",
   "pygments_lexer": "ipython3",
   "version": "3.12.7"
  }
 },
 "nbformat": 4,
 "nbformat_minor": 5
}
