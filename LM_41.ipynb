{
 "cells": [
  {
   "cell_type": "code",
   "execution_count": 9,
   "id": "3615e017-8917-499f-acde-148e9653bd6d",
   "metadata": {},
   "outputs": [
    {
     "name": "stdin",
     "output_type": "stream",
     "text": [
      "Enter name (or 'q' to quit):  dong\n",
      "Enter birthday (dd-mm-yyyy):  11-4-2005\n",
      "Enter 'q' to exit or 'c' to continue:  c\n",
      "Enter name (or 'q' to quit):  yu\n",
      "Enter birthday (dd-mm-yyyy):  3-4-1999\n",
      "Enter 'q' to exit or 'c' to continue:  q\n",
      "\n",
      "Enter name to trace birthday:  dong\n"
     ]
    },
    {
     "name": "stdout",
     "output_type": "stream",
     "text": [
      "Birthday of dong is: 11/4/2005\n"
     ]
    }
   ],
   "source": [
    "# Dictionary to store name: birthday\n",
    "birthdays = {}\n",
    "\n",
    "while True:\n",
    "    name = input(\"Enter name (or 'q' to quit): \")\n",
    "    if name.lower() == 'q':\n",
    "        break\n",
    "\n",
    "    birthday = input(\"Enter birthday (dd-mm-yyyy): \")\n",
    "    birthdays[name] = birthday\n",
    "\n",
    "    signal = input(\"Enter 'q' to exit or 'c' to continue: \").lower()\n",
    "    if signal == 'q':\n",
    "        break\n",
    "    elif signal == 'c':\n",
    "        continue\n",
    "\n",
    "# Search for a person's birthday\n",
    "name_to_search = input(\"\\nEnter name to trace birthday: \")\n",
    "\n",
    "if name_to_search in birthdays:\n",
    "    # Using split and join on the birthday string\n",
    "    bday = birthdays[name_to_search]          # e.g., \"08-10-2025\"\n",
    "    parts = bday.split('-')                   # split into ['08', '10', '2025']\n",
    "    formatted_bday = '/'.join(parts)          # join with '/' -> \"08/10/2025\"\n",
    "    print(f\"Birthday of {name_to_search} is: {formatted_bday}\")\n",
    "else:\n",
    "    print(\"No data found.\")\n",
    "\n"
   ]
  },
  {
   "cell_type": "code",
   "execution_count": null,
   "id": "a51c4454-ac5c-4921-84e3-0014aca67a4c",
   "metadata": {},
   "outputs": [],
   "source": []
  }
 ],
 "metadata": {
  "kernelspec": {
   "display_name": "Python [conda env:base] *",
   "language": "python",
   "name": "conda-base-py"
  },
  "language_info": {
   "codemirror_mode": {
    "name": "ipython",
    "version": 3
   },
   "file_extension": ".py",
   "mimetype": "text/x-python",
   "name": "python",
   "nbconvert_exporter": "python",
   "pygments_lexer": "ipython3",
   "version": "3.12.7"
  }
 },
 "nbformat": 4,
 "nbformat_minor": 5
}
