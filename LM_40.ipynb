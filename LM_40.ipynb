{
 "cells": [
  {
   "cell_type": "code",
   "execution_count": 8,
   "id": "aa9ddbaa-1099-41de-bcaf-8c573fc132a2",
   "metadata": {},
   "outputs": [
    {
     "name": "stdin",
     "output_type": "stream",
     "text": [
      "enter string : hello\n"
     ]
    },
    {
     "name": "stdout",
     "output_type": "stream",
     "text": [
      "length of string is : 5\n",
      "{1: 'h', 2: 'e', 3: 'l', 4: 'l', 5: 'o'}\n"
     ]
    }
   ],
   "source": [
    "s = input(\"enter string :\")\n",
    "print(\"length of string is :\",len(s))\n",
    "dict1 = dict(enumerate(s,1))\n",
    "print(dict1)\n"
   ]
  }
 ],
 "metadata": {
  "kernelspec": {
   "display_name": "Python [conda env:base] *",
   "language": "python",
   "name": "conda-base-py"
  },
  "language_info": {
   "codemirror_mode": {
    "name": "ipython",
    "version": 3
   },
   "file_extension": ".py",
   "mimetype": "text/x-python",
   "name": "python",
   "nbconvert_exporter": "python",
   "pygments_lexer": "ipython3",
   "version": "3.12.7"
  }
 },
 "nbformat": 4,
 "nbformat_minor": 5
}
